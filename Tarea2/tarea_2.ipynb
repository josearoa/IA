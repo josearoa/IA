{
 "cells": [
  {
   "cell_type": "code",
   "execution_count": 1,
   "metadata": {},
   "outputs": [],
   "source": [
    "import pandas as pd\n",
    "import numpy as np\n",
    "import tensorflow as tf\n",
    "from sklearn.model_selection import train_test_split\n",
    "from sklearn.preprocessing import StandardScaler\n",
    "from sklearn.metrics import confusion_matrix, classification_report\n",
    "from sklearn.neural_network import MLPClassifier\n",
    "from sklearn.model_selection import train_test_split\n",
    "from sklearn.preprocessing import MinMaxScaler\n",
    "import pandas as pd\n",
    "import matplotlib.pyplot as plt\n",
    "import seaborn as sns"
   ]
  },
  {
   "cell_type": "code",
   "execution_count": 2,
   "metadata": {},
   "outputs": [
    {
     "data": {
      "text/html": [
       "<div>\n",
       "<style scoped>\n",
       "    .dataframe tbody tr th:only-of-type {\n",
       "        vertical-align: middle;\n",
       "    }\n",
       "\n",
       "    .dataframe tbody tr th {\n",
       "        vertical-align: top;\n",
       "    }\n",
       "\n",
       "    .dataframe thead th {\n",
       "        text-align: right;\n",
       "    }\n",
       "</style>\n",
       "<table border=\"1\" class=\"dataframe\">\n",
       "  <thead>\n",
       "    <tr style=\"text-align: right;\">\n",
       "      <th></th>\n",
       "      <th>sg</th>\n",
       "      <th>albumin</th>\n",
       "      <th>rbc_level</th>\n",
       "      <th>haemoglobin</th>\n",
       "      <th>wbc_count</th>\n",
       "      <th>outcome</th>\n",
       "      <th>sodium</th>\n",
       "      <th>creatnine</th>\n",
       "    </tr>\n",
       "  </thead>\n",
       "  <tbody>\n",
       "    <tr>\n",
       "      <th>0</th>\n",
       "      <td>0.336943</td>\n",
       "      <td>-0.731127</td>\n",
       "      <td>-1.12601</td>\n",
       "      <td>0.929121</td>\n",
       "      <td>1.646606</td>\n",
       "      <td>1</td>\n",
       "      <td>-1.949433</td>\n",
       "      <td>-0.355527</td>\n",
       "    </tr>\n",
       "    <tr>\n",
       "      <th>1</th>\n",
       "      <td>0.352859</td>\n",
       "      <td>-0.731127</td>\n",
       "      <td>0.42871</td>\n",
       "      <td>0.669784</td>\n",
       "      <td>1.646606</td>\n",
       "      <td>0</td>\n",
       "      <td>0.579098</td>\n",
       "      <td>-0.355527</td>\n",
       "    </tr>\n",
       "    <tr>\n",
       "      <th>2</th>\n",
       "      <td>0.352859</td>\n",
       "      <td>0.771052</td>\n",
       "      <td>1.98343</td>\n",
       "      <td>-1.664249</td>\n",
       "      <td>0.000000</td>\n",
       "      <td>1</td>\n",
       "      <td>0.507871</td>\n",
       "      <td>0.323924</td>\n",
       "    </tr>\n",
       "    <tr>\n",
       "      <th>3</th>\n",
       "      <td>0.321026</td>\n",
       "      <td>0.019963</td>\n",
       "      <td>-1.12601</td>\n",
       "      <td>-0.108227</td>\n",
       "      <td>-0.174980</td>\n",
       "      <td>1</td>\n",
       "      <td>0.418839</td>\n",
       "      <td>-0.355527</td>\n",
       "    </tr>\n",
       "    <tr>\n",
       "      <th>4</th>\n",
       "      <td>0.321026</td>\n",
       "      <td>0.771052</td>\n",
       "      <td>0.42871</td>\n",
       "      <td>0.000000</td>\n",
       "      <td>-0.174980</td>\n",
       "      <td>1</td>\n",
       "      <td>0.596904</td>\n",
       "      <td>0.323924</td>\n",
       "    </tr>\n",
       "  </tbody>\n",
       "</table>\n",
       "</div>"
      ],
      "text/plain": [
       "         sg   albumin  rbc_level  haemoglobin  wbc_count  outcome    sodium  \\\n",
       "0  0.336943 -0.731127   -1.12601     0.929121   1.646606        1 -1.949433   \n",
       "1  0.352859 -0.731127    0.42871     0.669784   1.646606        0  0.579098   \n",
       "2  0.352859  0.771052    1.98343    -1.664249   0.000000        1  0.507871   \n",
       "3  0.321026  0.019963   -1.12601    -0.108227  -0.174980        1  0.418839   \n",
       "4  0.321026  0.771052    0.42871     0.000000  -0.174980        1  0.596904   \n",
       "\n",
       "   creatnine  \n",
       "0  -0.355527  \n",
       "1  -0.355527  \n",
       "2   0.323924  \n",
       "3  -0.355527  \n",
       "4   0.323924  "
      ]
     },
     "execution_count": 2,
     "metadata": {},
     "output_type": "execute_result"
    }
   ],
   "source": [
    "# Cargar los datos desde un archivo CSV (ajusta el nombre del archivo y las columnas)\n",
    "df = pd.read_csv(\"cleaned_data.csv\")\n",
    "df.head()"
   ]
  },
  {
   "cell_type": "code",
   "execution_count": 3,
   "metadata": {},
   "outputs": [],
   "source": [
    "# Definir las características (features) y la variable objetivo\n",
    "cols = df.columns.tolist()\n",
    "X = df.drop(columns=['outcome'])  # Excluye la columna 'outcome'\n",
    "y = df['outcome']"
   ]
  },
  {
   "cell_type": "code",
   "execution_count": 4,
   "metadata": {},
   "outputs": [
    {
     "data": {
      "text/plain": [
       "Counter({1: 191, 0: 110})"
      ]
     },
     "execution_count": 4,
     "metadata": {},
     "output_type": "execute_result"
    }
   ],
   "source": [
    "#Cuenta la cantidad de registros por cada clase:\n",
    "\n",
    "from collections import Counter\n",
    "Counter(y)"
   ]
  },
  {
   "cell_type": "code",
   "execution_count": 5,
   "metadata": {},
   "outputs": [
    {
     "data": {
      "text/plain": [
       "array([[0.9902439 , 0.        , 0.        , ..., 0.66666667, 0.        ,\n",
       "        0.0625    ],\n",
       "       [0.99512195, 0.        , 0.5       , ..., 0.66666667, 0.94666667,\n",
       "        0.0625    ],\n",
       "       [0.99512195, 0.4       , 1.        , ..., 0.36535304, 0.92      ,\n",
       "        0.1875    ],\n",
       "       ...,\n",
       "       [1.        , 0.        , 0.5       , ..., 0.5       , 0.97333333,\n",
       "        0.        ],\n",
       "       [1.        , 0.        , 0.5       , ..., 0.5       , 0.9       ,\n",
       "        0.        ],\n",
       "       [0.98536585, 0.4       , 0.        , ..., 0.36535304, 0.        ,\n",
       "        0.125     ]])"
      ]
     },
     "execution_count": 5,
     "metadata": {},
     "output_type": "execute_result"
    }
   ],
   "source": [
    "#Se escalan todos los datos:\n",
    "\n",
    "escalar = MinMaxScaler()\n",
    "X_esc = escalar.fit_transform(X)\n",
    "X_esc"
   ]
  },
  {
   "cell_type": "code",
   "execution_count": 6,
   "metadata": {},
   "outputs": [],
   "source": [
    "#Separar conjuntos de entrenamiento y de pruebas:\n",
    "\n",
    "X_train, X_test, y_train, y_test = train_test_split(X_esc, y, test_size=0.2, random_state = 200)"
   ]
  },
  {
   "cell_type": "code",
   "execution_count": 7,
   "metadata": {},
   "outputs": [
    {
     "data": {
      "text/plain": [
       "Counter({1: 156, 0: 84})"
      ]
     },
     "execution_count": 7,
     "metadata": {},
     "output_type": "execute_result"
    }
   ],
   "source": [
    "#Cantidad de registros por cada clase del set de entrenamiento:\n",
    "\n",
    "Counter(y_train)"
   ]
  },
  {
   "cell_type": "code",
   "execution_count": 8,
   "metadata": {},
   "outputs": [],
   "source": [
    "mlp = MLPClassifier(hidden_layer_sizes=(75,), \n",
    "                    activation='tanh', \n",
    "                    solver='adam', \n",
    "                    alpha=0.0001, \n",
    "                    max_iter=250, \n",
    "                    learning_rate=\"adaptive\",\n",
    "                    random_state=0)"
   ]
  },
  {
   "cell_type": "code",
   "execution_count": 9,
   "metadata": {},
   "outputs": [
    {
     "name": "stderr",
     "output_type": "stream",
     "text": [
      "c:\\Users\\josea\\AppData\\Local\\Programs\\Python\\Python311\\Lib\\site-packages\\sklearn\\neural_network\\_multilayer_perceptron.py:691: ConvergenceWarning: Stochastic Optimizer: Maximum iterations (250) reached and the optimization hasn't converged yet.\n",
      "  warnings.warn(\n"
     ]
    },
    {
     "data": {
      "text/html": [
       "<style>#sk-container-id-1 {color: black;}#sk-container-id-1 pre{padding: 0;}#sk-container-id-1 div.sk-toggleable {background-color: white;}#sk-container-id-1 label.sk-toggleable__label {cursor: pointer;display: block;width: 100%;margin-bottom: 0;padding: 0.3em;box-sizing: border-box;text-align: center;}#sk-container-id-1 label.sk-toggleable__label-arrow:before {content: \"▸\";float: left;margin-right: 0.25em;color: #696969;}#sk-container-id-1 label.sk-toggleable__label-arrow:hover:before {color: black;}#sk-container-id-1 div.sk-estimator:hover label.sk-toggleable__label-arrow:before {color: black;}#sk-container-id-1 div.sk-toggleable__content {max-height: 0;max-width: 0;overflow: hidden;text-align: left;background-color: #f0f8ff;}#sk-container-id-1 div.sk-toggleable__content pre {margin: 0.2em;color: black;border-radius: 0.25em;background-color: #f0f8ff;}#sk-container-id-1 input.sk-toggleable__control:checked~div.sk-toggleable__content {max-height: 200px;max-width: 100%;overflow: auto;}#sk-container-id-1 input.sk-toggleable__control:checked~label.sk-toggleable__label-arrow:before {content: \"▾\";}#sk-container-id-1 div.sk-estimator input.sk-toggleable__control:checked~label.sk-toggleable__label {background-color: #d4ebff;}#sk-container-id-1 div.sk-label input.sk-toggleable__control:checked~label.sk-toggleable__label {background-color: #d4ebff;}#sk-container-id-1 input.sk-hidden--visually {border: 0;clip: rect(1px 1px 1px 1px);clip: rect(1px, 1px, 1px, 1px);height: 1px;margin: -1px;overflow: hidden;padding: 0;position: absolute;width: 1px;}#sk-container-id-1 div.sk-estimator {font-family: monospace;background-color: #f0f8ff;border: 1px dotted black;border-radius: 0.25em;box-sizing: border-box;margin-bottom: 0.5em;}#sk-container-id-1 div.sk-estimator:hover {background-color: #d4ebff;}#sk-container-id-1 div.sk-parallel-item::after {content: \"\";width: 100%;border-bottom: 1px solid gray;flex-grow: 1;}#sk-container-id-1 div.sk-label:hover label.sk-toggleable__label {background-color: #d4ebff;}#sk-container-id-1 div.sk-serial::before {content: \"\";position: absolute;border-left: 1px solid gray;box-sizing: border-box;top: 0;bottom: 0;left: 50%;z-index: 0;}#sk-container-id-1 div.sk-serial {display: flex;flex-direction: column;align-items: center;background-color: white;padding-right: 0.2em;padding-left: 0.2em;position: relative;}#sk-container-id-1 div.sk-item {position: relative;z-index: 1;}#sk-container-id-1 div.sk-parallel {display: flex;align-items: stretch;justify-content: center;background-color: white;position: relative;}#sk-container-id-1 div.sk-item::before, #sk-container-id-1 div.sk-parallel-item::before {content: \"\";position: absolute;border-left: 1px solid gray;box-sizing: border-box;top: 0;bottom: 0;left: 50%;z-index: -1;}#sk-container-id-1 div.sk-parallel-item {display: flex;flex-direction: column;z-index: 1;position: relative;background-color: white;}#sk-container-id-1 div.sk-parallel-item:first-child::after {align-self: flex-end;width: 50%;}#sk-container-id-1 div.sk-parallel-item:last-child::after {align-self: flex-start;width: 50%;}#sk-container-id-1 div.sk-parallel-item:only-child::after {width: 0;}#sk-container-id-1 div.sk-dashed-wrapped {border: 1px dashed gray;margin: 0 0.4em 0.5em 0.4em;box-sizing: border-box;padding-bottom: 0.4em;background-color: white;}#sk-container-id-1 div.sk-label label {font-family: monospace;font-weight: bold;display: inline-block;line-height: 1.2em;}#sk-container-id-1 div.sk-label-container {text-align: center;}#sk-container-id-1 div.sk-container {/* jupyter's `normalize.less` sets `[hidden] { display: none; }` but bootstrap.min.css set `[hidden] { display: none !important; }` so we also need the `!important` here to be able to override the default hidden behavior on the sphinx rendered scikit-learn.org. See: https://github.com/scikit-learn/scikit-learn/issues/21755 */display: inline-block !important;position: relative;}#sk-container-id-1 div.sk-text-repr-fallback {display: none;}</style><div id=\"sk-container-id-1\" class=\"sk-top-container\"><div class=\"sk-text-repr-fallback\"><pre>MLPClassifier(activation=&#x27;tanh&#x27;, hidden_layer_sizes=(75,),\n",
       "              learning_rate=&#x27;adaptive&#x27;, max_iter=250, random_state=0)</pre><b>In a Jupyter environment, please rerun this cell to show the HTML representation or trust the notebook. <br />On GitHub, the HTML representation is unable to render, please try loading this page with nbviewer.org.</b></div><div class=\"sk-container\" hidden><div class=\"sk-item\"><div class=\"sk-estimator sk-toggleable\"><input class=\"sk-toggleable__control sk-hidden--visually\" id=\"sk-estimator-id-1\" type=\"checkbox\" checked><label for=\"sk-estimator-id-1\" class=\"sk-toggleable__label sk-toggleable__label-arrow\">MLPClassifier</label><div class=\"sk-toggleable__content\"><pre>MLPClassifier(activation=&#x27;tanh&#x27;, hidden_layer_sizes=(75,),\n",
       "              learning_rate=&#x27;adaptive&#x27;, max_iter=250, random_state=0)</pre></div></div></div></div></div>"
      ],
      "text/plain": [
       "MLPClassifier(activation='tanh', hidden_layer_sizes=(75,),\n",
       "              learning_rate='adaptive', max_iter=250, random_state=0)"
      ]
     },
     "execution_count": 9,
     "metadata": {},
     "output_type": "execute_result"
    }
   ],
   "source": [
    "#Entrenamiento:\n",
    "\n",
    "mlp.fit(X_train, y_train)"
   ]
  },
  {
   "cell_type": "code",
   "execution_count": 10,
   "metadata": {},
   "outputs": [
    {
     "data": {
      "image/png": "[encoded data removed]",
      "text/plain": [
       "<Figure size 640x480 with 1 Axes>"
      ]
     },
     "metadata": {},
     "output_type": "display_data"
    }
   ],
   "source": [
    "plt.plot(mlp.loss_curve_)\n",
    "plt.title(\"Loss Curve\", fontsize=14)\n",
    "plt.xlabel('Epochs')\n",
    "plt.ylabel('Cost')\n",
    "plt.show()"
   ]
  },
  {
   "cell_type": "code",
   "execution_count": 11,
   "metadata": {},
   "outputs": [
    {
     "data": {
      "text/html": [
       "<div>\n",
       "<style scoped>\n",
       "    .dataframe tbody tr th:only-of-type {\n",
       "        vertical-align: middle;\n",
       "    }\n",
       "\n",
       "    .dataframe tbody tr th {\n",
       "        vertical-align: top;\n",
       "    }\n",
       "\n",
       "    .dataframe thead th {\n",
       "        text-align: right;\n",
       "    }\n",
       "</style>\n",
       "<table border=\"1\" class=\"dataframe\">\n",
       "  <thead>\n",
       "    <tr style=\"text-align: right;\">\n",
       "      <th></th>\n",
       "      <th>Predicción</th>\n",
       "      <th>Real</th>\n",
       "    </tr>\n",
       "  </thead>\n",
       "  <tbody>\n",
       "    <tr>\n",
       "      <th>166</th>\n",
       "      <td>1</td>\n",
       "      <td>1</td>\n",
       "    </tr>\n",
       "    <tr>\n",
       "      <th>246</th>\n",
       "      <td>1</td>\n",
       "      <td>1</td>\n",
       "    </tr>\n",
       "    <tr>\n",
       "      <th>127</th>\n",
       "      <td>1</td>\n",
       "      <td>1</td>\n",
       "    </tr>\n",
       "    <tr>\n",
       "      <th>276</th>\n",
       "      <td>1</td>\n",
       "      <td>1</td>\n",
       "    </tr>\n",
       "    <tr>\n",
       "      <th>121</th>\n",
       "      <td>1</td>\n",
       "      <td>1</td>\n",
       "    </tr>\n",
       "    <tr>\n",
       "      <th>203</th>\n",
       "      <td>0</td>\n",
       "      <td>0</td>\n",
       "    </tr>\n",
       "    <tr>\n",
       "      <th>47</th>\n",
       "      <td>1</td>\n",
       "      <td>1</td>\n",
       "    </tr>\n",
       "    <tr>\n",
       "      <th>284</th>\n",
       "      <td>1</td>\n",
       "      <td>1</td>\n",
       "    </tr>\n",
       "    <tr>\n",
       "      <th>73</th>\n",
       "      <td>0</td>\n",
       "      <td>0</td>\n",
       "    </tr>\n",
       "    <tr>\n",
       "      <th>176</th>\n",
       "      <td>1</td>\n",
       "      <td>1</td>\n",
       "    </tr>\n",
       "  </tbody>\n",
       "</table>\n",
       "</div>"
      ],
      "text/plain": [
       "     Predicción  Real\n",
       "166           1     1\n",
       "246           1     1\n",
       "127           1     1\n",
       "276           1     1\n",
       "121           1     1\n",
       "203           0     0\n",
       "47            1     1\n",
       "284           1     1\n",
       "73            0     0\n",
       "176           1     1"
      ]
     },
     "execution_count": 11,
     "metadata": {},
     "output_type": "execute_result"
    }
   ],
   "source": [
    "#Predicciones:\n",
    "\n",
    "y_pred = mlp.predict(X_test)\n",
    "\n",
    "df_pred= pd.DataFrame({'Predicción': y_pred, 'Real': y_test})\n",
    "df_pred.head(10)"
   ]
  },
  {
   "cell_type": "code",
   "execution_count": 12,
   "metadata": {},
   "outputs": [
    {
     "data": {
      "image/png": "[encoded data removed]",
      "text/plain": [
       "<Figure size 640x480 with 2 Axes>"
      ]
     },
     "metadata": {},
     "output_type": "display_data"
    }
   ],
   "source": [
    "#Matriz de confusión:\n",
    "def matriz_confusion(y_test,y_pred):\n",
    "    import matplotlib.pyplot as plt\n",
    "    import seaborn as sns\n",
    "    #Verifico la matriz de Confusión\n",
    "    from sklearn.metrics import confusion_matrix\n",
    "    matriz = confusion_matrix(y_test, y_pred,labels=[1, 0])\n",
    "\n",
    "    ax = sns.heatmap(matriz, annot=True, cmap='Blues', fmt='g')\n",
    "    ax.set_title('Matriz de Confusión\\n\\n');\n",
    "    ax.set_xlabel('\\nPredicción')\n",
    "    ax.set_ylabel('Real ');\n",
    "\n",
    "    ## Ticket labels - List must be in alphabetical order\n",
    "    ax.xaxis.set_ticklabels(['True','False'])\n",
    "    ax.yaxis.set_ticklabels(['True','False'])\n",
    "\n",
    "    ## Display the visualization of the Confusion Matrix.\n",
    "    plt.show()\n",
    "\n",
    "\n",
    "matriz_confusion(y_test,y_pred)"
   ]
  },
  {
   "cell_type": "code",
   "execution_count": 13,
   "metadata": {},
   "outputs": [
    {
     "data": {
      "text/html": [
       "<style type=\"text/css\">\n",
       "</style>\n",
       "<table id=\"T_4f508\">\n",
       "  <thead>\n",
       "    <tr>\n",
       "      <th class=\"blank level0\" >&nbsp;</th>\n",
       "      <th id=\"T_4f508_level0_col0\" class=\"col_heading level0 col0\" >Modelo</th>\n",
       "      <th id=\"T_4f508_level0_col1\" class=\"col_heading level0 col1\" >Clase </th>\n",
       "      <th id=\"T_4f508_level0_col2\" class=\"col_heading level0 col2\" >Exactitud</th>\n",
       "      <th id=\"T_4f508_level0_col3\" class=\"col_heading level0 col3\" >Precisión</th>\n",
       "      <th id=\"T_4f508_level0_col4\" class=\"col_heading level0 col4\" >Sensibilidad</th>\n",
       "      <th id=\"T_4f508_level0_col5\" class=\"col_heading level0 col5\" >F1</th>\n",
       "      <th id=\"T_4f508_level0_col6\" class=\"col_heading level0 col6\" >AUC</th>\n",
       "    </tr>\n",
       "  </thead>\n",
       "  <tbody>\n",
       "    <tr>\n",
       "      <th id=\"T_4f508_level0_row0\" class=\"row_heading level0 row0\" >0</th>\n",
       "      <td id=\"T_4f508_row0_col0\" class=\"data row0 col0\" >MLP</td>\n",
       "      <td id=\"T_4f508_row0_col1\" class=\"data row0 col1\" >1</td>\n",
       "      <td id=\"T_4f508_row0_col2\" class=\"data row0 col2\" >0.983607</td>\n",
       "      <td id=\"T_4f508_row0_col3\" class=\"data row0 col3\" >0.972222</td>\n",
       "      <td id=\"T_4f508_row0_col4\" class=\"data row0 col4\" >1.000000</td>\n",
       "      <td id=\"T_4f508_row0_col5\" class=\"data row0 col5\" >0.985915</td>\n",
       "      <td id=\"T_4f508_row0_col6\" class=\"data row0 col6\" >0.980769</td>\n",
       "    </tr>\n",
       "    <tr>\n",
       "      <th id=\"T_4f508_level0_row1\" class=\"row_heading level0 row1\" >1</th>\n",
       "      <td id=\"T_4f508_row1_col0\" class=\"data row1 col0\" ></td>\n",
       "      <td id=\"T_4f508_row1_col1\" class=\"data row1 col1\" >0</td>\n",
       "      <td id=\"T_4f508_row1_col2\" class=\"data row1 col2\" ></td>\n",
       "      <td id=\"T_4f508_row1_col3\" class=\"data row1 col3\" >1.000000</td>\n",
       "      <td id=\"T_4f508_row1_col4\" class=\"data row1 col4\" >0.961538</td>\n",
       "      <td id=\"T_4f508_row1_col5\" class=\"data row1 col5\" >0.980000</td>\n",
       "      <td id=\"T_4f508_row1_col6\" class=\"data row1 col6\" ></td>\n",
       "    </tr>\n",
       "  </tbody>\n",
       "</table>\n"
      ],
      "text/plain": [
       "<pandas.io.formats.style.Styler at 0x221e54cffd0>"
      ]
     },
     "execution_count": 13,
     "metadata": {},
     "output_type": "execute_result"
    }
   ],
   "source": [
    "#Algunas métricas:\n",
    "def calcula_metricas(nombre_algoritmo,y_test,y_pred):\n",
    "### CLASE POSITIVA (1) ###\n",
    "    #Calculo la precisión del modelo\n",
    "    from sklearn.metrics import precision_score\n",
    "    precision = precision_score(y_test, y_pred)\n",
    "\n",
    "    #Calculo la exactitud del modelo\n",
    "    from sklearn.metrics import accuracy_score\n",
    "    exactitud = accuracy_score(y_test, y_pred)\n",
    "\n",
    "    #Calculo la sensibilidad del modelo\n",
    "    from sklearn.metrics import recall_score\n",
    "    sensibilidad = recall_score(y_test, y_pred)\n",
    "\n",
    "    #Calculo el Puntaje F1 del modelo\n",
    "    from sklearn.metrics import f1_score\n",
    "    puntajef1 = f1_score(y_test, y_pred)\n",
    "\n",
    "    #Calculo la curva ROC - AUC del modelo\n",
    "    from sklearn.metrics import roc_auc_score\n",
    "    roc_auc = roc_auc_score(y_test, y_pred)\n",
    "\n",
    "### CLASE NEGATIVA (0) ###\n",
    "    from sklearn.metrics import confusion_matrix\n",
    "    labels = [1, 0]\n",
    "    cm = confusion_matrix(y_test, y_pred, labels = labels)\n",
    "    tp,fn,fp,tn = cm.ravel()\n",
    "    \n",
    "    #True Negative Rate / specificity\n",
    "    TNR_recall_espec = round(tn/(tn+fp),6)\n",
    "\n",
    "    #Negative Predictive Value\n",
    "    NPV_precision = round(tn/(tn+fn),6)\n",
    "\n",
    "    #Cálculo del F1 para la clase negativa\n",
    "    F1_neg = round(2 * (NPV_precision * TNR_recall_espec) / (NPV_precision + TNR_recall_espec),2)\n",
    "\n",
    "    ## Vector de Desempeño - Resumen de Métricas del Modelo\n",
    "    df_1 = pd.DataFrame({'Modelo': [nombre_algoritmo],'Clase ':[1],'Exactitud': [exactitud],'Precisión': [precision],\n",
    "                   'Sensibilidad': [sensibilidad], 'F1': [puntajef1],'AUC': [roc_auc]})\n",
    "    df_2 = pd.DataFrame({'Modelo': '','Clase ':[0],'Exactitud': '','Precisión': [NPV_precision],\n",
    "                   'Sensibilidad': [TNR_recall_espec], 'F1': [F1_neg],'AUC': ''})\n",
    "    \n",
    "    df_metricas = pd.concat([df_1, df_2], ignore_index=True)\n",
    "\n",
    "    return df_metricas.style\n",
    "\n",
    "\n",
    "df_metricas_mlp = calcula_metricas('MLP',y_test,y_pred)\n",
    "df_metricas_mlp"
   ]
  },
  {
   "cell_type": "code",
   "execution_count": 14,
   "metadata": {},
   "outputs": [],
   "source": [
    "# Guardar el modelo:\n",
    "\n",
    "import pickle\n",
    "\n",
    "archivo_pkl= 'modelo_mlp_Grupo12.pkl'\n",
    "pickle.dump(mlp, open(archivo_pkl, 'wb'))"
   ]
  },
  {
   "cell_type": "code",
   "execution_count": 15,
   "metadata": {},
   "outputs": [
    {
     "name": "stdout",
     "output_type": "stream",
     "text": [
      "MLPClassifier(activation='tanh', hidden_layer_sizes=(75,),\n",
      "              learning_rate='adaptive', max_iter=250, random_state=0)\n"
     ]
    }
   ],
   "source": [
    "with open('modelo_mlp_Grupo12.pkl', 'rb') as pkl:\n",
    "    data = pickle.load(pkl)\n",
    "    print(data)"
   ]
  }
 ],
 "metadata": {
  "kernelspec": {
   "display_name": "Python 3",
   "language": "python",
   "name": "python3"
  },
  "language_info": {
   "codemirror_mode": {
    "name": "ipython",
    "version": 3
   },
   "file_extension": ".py",
   "mimetype": "text/x-python",
   "name": "python",
   "nbconvert_exporter": "python",
   "pygments_lexer": "ipython3",
   "version": "3.11.4"
  },
  "orig_nbformat": 4
 },
 "nbformat": 4,
 "nbformat_minor": 2
}
